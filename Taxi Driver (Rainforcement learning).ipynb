{
 "cells": [
  {
   "cell_type": "code",
   "execution_count": 1,
   "metadata": {},
   "outputs": [
    {
     "name": "stdout",
     "output_type": "stream",
     "text": [
      "+---------+\n",
      "|R: | : :G|\n",
      "| : | : : |\n",
      "| :\u001b[43m \u001b[0m: : : |\n",
      "| | : | : |\n",
      "|\u001b[35mY\u001b[0m| : |\u001b[34;1mB\u001b[0m: |\n",
      "+---------+\n",
      "\n"
     ]
    }
   ],
   "source": [
    "#Blue => Blue is the passenger which you should pickup\n",
    "#Purple => Purple is the passenger's destination\n",
    "import gym\n",
    "import random\n",
    "random.seed(1234)\n",
    "street = gym.make('Taxi-v3').env\n",
    "street.render()"
   ]
  },
  {
   "cell_type": "code",
   "execution_count": 2,
   "metadata": {},
   "outputs": [
    {
     "name": "stdout",
     "output_type": "stream",
     "text": [
      "+---------+\n",
      "|\u001b[35mR\u001b[0m: | : :G|\n",
      "| : | : : |\n",
      "| : : :\u001b[43m \u001b[0m: |\n",
      "| | : | : |\n",
      "|\u001b[34;1mY\u001b[0m| : |B: |\n",
      "+---------+\n",
      "\n"
     ]
    }
   ],
   "source": [
    "initialStates = street.encode(2, 3, 2, 0)#env.encode(taxi-y , taxi-x, passenger location, Destination location)\n",
    "street.s = initialStates\n",
    "street.render()"
   ]
  },
  {
   "cell_type": "code",
   "execution_count": 3,
   "metadata": {},
   "outputs": [
    {
     "data": {
      "text/plain": [
       "{0: [(1.0, 368, -1, False)],\n",
       " 1: [(1.0, 168, -1, False)],\n",
       " 2: [(1.0, 288, -1, False)],\n",
       " 3: [(1.0, 248, -1, False)],\n",
       " 4: [(1.0, 268, -10, False)],\n",
       " 5: [(1.0, 268, -10, False)]}"
      ]
     },
     "execution_count": 3,
     "metadata": {},
     "output_type": "execute_result"
    }
   ],
   "source": [
    "street.P[initialStates]"
   ]
  },
  {
   "cell_type": "code",
   "execution_count": 4,
   "metadata": {},
   "outputs": [],
   "source": [
    "import numpy as np\n",
    "Epochs = 10000\n",
    "Exploration = 0.1\n",
    "learning_Rate = 0.1\n",
    "discount_Factor = 0.6\n",
    "\n",
    "Q_table = np.zeros([street.observation_space.n, street.action_space.n])\n",
    "\n",
    "for taxi_run in range(Epochs):\n",
    "    state = street.reset()\n",
    "    done = False\n",
    "\n",
    "    while not done:\n",
    "        randomValue = random.uniform(0, 1)\n",
    "        if (randomValue < Exploration):\n",
    "            action = street.action_space.sample()\n",
    "        else:\n",
    "            action = np.argmax(Q_table[state])\n",
    "        nextState, Reward, done, info = street.step(action)\n",
    "\n",
    "        previous_q = Q_table[state, action]\n",
    "        next_maxQ = np.max(Q_table[nextState])\n",
    "        newQ = (1 - learning_Rate) * previous_q + learning_Rate * (Reward + discount_Factor * next_maxQ)\n",
    "        Q_table[state, action] = newQ\n",
    "        state = nextState"
   ]
  },
  {
   "cell_type": "code",
   "execution_count": 5,
   "metadata": {},
   "outputs": [
    {
     "data": {
      "text/plain": [
       "array([-2.39383746, -2.40064711, -2.40525937, -2.3639511 , -7.14824764,\n",
       "       -5.81310237])"
      ]
     },
     "execution_count": 5,
     "metadata": {},
     "output_type": "execute_result"
    }
   ],
   "source": [
    "Q_table[initialStates]\n",
    "#1 = South , 2 = North, 3 = east, 4 = west, 5 = pickup, 6 = dropoff"
   ]
  },
  {
   "cell_type": "code",
   "execution_count": 6,
   "metadata": {},
   "outputs": [
    {
     "name": "stdout",
     "output_type": "stream",
     "text": [
      "Trip number : 4\n",
      "+---------+\n",
      "|\u001b[34;1mR\u001b[0m: | : :G|\n",
      "| : | : : |\n",
      "| : : : : |\n",
      "| | : | :\u001b[43m \u001b[0m|\n",
      "|\u001b[35mY\u001b[0m| : |B: |\n",
      "+---------+\n",
      "  (North)\n",
      "\n"
     ]
    }
   ],
   "source": [
    "from IPython.display import clear_output\n",
    "from time import sleep\n",
    "\n",
    "for tripNum in range(1, 11):\n",
    "    state = street.reset()\n",
    "    done = False\n",
    "\n",
    "    while not done:\n",
    "        action = np.argmax(Q_table[state])\n",
    "        nextState, Reward, done, info = street.step(action)\n",
    "        clear_output(wait=True)\n",
    "        print(f\"Trip number : {tripNum}\")\n",
    "        print(street.render(mode='ansi'))\n",
    "        sleep(1)\n",
    "        state = nextState\n",
    "    sleep(4)\n"
   ]
  },
  {
   "cell_type": "code",
   "execution_count": null,
   "metadata": {},
   "outputs": [],
   "source": []
  }
 ],
 "metadata": {
  "interpreter": {
   "hash": "b3ba2566441a7c06988d0923437866b63cedc61552a5af99d1f4fb67d367b25f"
  },
  "kernelspec": {
   "display_name": "Python 3.7.6 64-bit ('base': conda)",
   "language": "python",
   "name": "python3"
  },
  "language_info": {
   "codemirror_mode": {
    "name": "ipython",
    "version": 3
   },
   "file_extension": ".py",
   "mimetype": "text/x-python",
   "name": "python",
   "nbconvert_exporter": "python",
   "pygments_lexer": "ipython3",
   "version": "3.7.6"
  },
  "orig_nbformat": 4
 },
 "nbformat": 4,
 "nbformat_minor": 2
}
